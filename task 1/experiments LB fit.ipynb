{
 "cells": [
  {
   "cell_type": "code",
   "execution_count": 20,
   "metadata": {},
   "outputs": [],
   "source": [
    "import os\n",
    "import typing\n",
    "from sklearn.gaussian_process.kernels import *\n",
    "import numpy as np\n",
    "from sklearn.gaussian_process import GaussianProcessRegressor\n",
    "import matplotlib.pyplot as plt\n",
    "from matplotlib import cm\n",
    "from sklearn.kernel_approximation import Nystroem\n",
    "from sklearn.linear_model import BayesianRidge\n",
    "from sklearn.model_selection import train_test_split\n",
    "import os\n",
    "import subprocess\n",
    "import json"
   ]
  },
  {
   "cell_type": "code",
   "execution_count": 21,
   "metadata": {},
   "outputs": [
    {
     "data": {
      "text/plain": [
       "7.469069014143008"
      ]
     },
     "execution_count": 21,
     "metadata": {},
     "output_type": "execute_result"
    }
   ],
   "source": [
    "file = \"predictions.json\"\n",
    "dict = open(file).read()\n",
    "#parse the string as json\n",
    "dict = json.loads(dict)\n",
    "# len(dict[\"gp_mean\"])\n",
    "np.array(dict[\"gp_std\"]).mean()"
   ]
  },
  {
   "cell_type": "code",
   "execution_count": 22,
   "metadata": {},
   "outputs": [
    {
     "name": "stdout",
     "output_type": "stream",
     "text": [
      "0.0047 , 1.01 : 9.529\n",
      "0.0048000000000000004 , 1.01 : 9.526\n"
     ]
    }
   ],
   "source": [
    "previous = 9999\n",
    "iterations = 0\n",
    "\n",
    "# for mult in np.arange(0.32, 0.5, 0.02):\n",
    "#     for tresh in np.arange(1.01, 1.10, 0.01):\n",
    "\n",
    "# for mult in np.arange(0.0078, 0.0099, 0.0001):\n",
    "for mult in np.arange(0.0047, 0.0049, 0.0001):\n",
    "    for tresh in np.arange(1.01, 1.02, 0.01):\n",
    "        dict['predictions'] = (np.array(dict[\"gp_mean\"])*(1+np.array(dict[\"gp_std\"])*mult)).tolist()\n",
    "        with open('predictions.json', 'w') as f:\n",
    "            json.dump(dict, f)\n",
    "        # o = os.popen('docker build --tag task1 .').read()\n",
    "        o = os.popen('docker run --rm -v \"%cd%:/results\" task1').read()\n",
    "        o = o.replace(\"Congratulations, you have passed the checks on public dataset. Your cost is \",\"\").replace(\"Dumped check file to /results/results_check.byte\",\"\").replace(\"\\n\",\"\")\n",
    "        print(mult, \",\", tresh, \":\", o)\n",
    "        score = float(o)\n",
    "        #if score gets worse for 2 times in a row, stop\n",
    "        if score > previous:\n",
    "            iterations += 1\n",
    "        else:\n",
    "            iterations = 0\n",
    "        if iterations == 2:\n",
    "            break\n",
    "        previous = score\n",
    "\n",
    "        break\n"
   ]
  }
 ],
 "metadata": {
  "kernelspec": {
   "display_name": "Python 3.9.7 ('base')",
   "language": "python",
   "name": "python3"
  },
  "language_info": {
   "codemirror_mode": {
    "name": "ipython",
    "version": 3
   },
   "file_extension": ".py",
   "mimetype": "text/x-python",
   "name": "python",
   "nbconvert_exporter": "python",
   "pygments_lexer": "ipython3",
   "version": "3.9.7"
  },
  "orig_nbformat": 4,
  "vscode": {
   "interpreter": {
    "hash": "ad2bdc8ecc057115af97d19610ffacc2b4e99fae6737bb82f5d7fb13d2f2c186"
   }
  }
 },
 "nbformat": 4,
 "nbformat_minor": 2
}
